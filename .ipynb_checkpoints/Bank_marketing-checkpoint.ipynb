{
 "cells": [
  {
   "cell_type": "markdown",
   "metadata": {},
   "source": [
    "The data is related with direct marketing campaigns of a Portuguese banking institution. The marketing campaigns were based on phone calls. Often, more than one contact to the same client was required, in order to access if the product (bank term deposit) would be (or not) subscribed.\n",
    "\n",
    "<b>The classification goal</b> - to predict if the client will subscribe a term deposit (variable y).\n",
    "\n",
    "Number of Instances: 45211 for bank-full.csv (4521 for bank.csv)\n",
    "Number of Attributes: 16 + output attribute.\n",
    "\n",
    "<b>Input variables</b>\n",
    "\n",
    "<b>bank client data</b>\n",
    "1 - age (numeric) 2 - job : type of job (categorical: \"admin.\",\"unknown\",\"unemployed\",\"management\",\"housemaid\",\"entrepreneur\",\"student\", \"blue-collar\",\"self-employed\",\"retired\",\"technician\",\"services\") 3 - marital : marital status (categorical: \"married\",\"divorced\",\"single\"; note: \"divorced\" means divorced or widowed) 4 - education (categorical: \"unknown\",\"secondary\",\"primary\",\"tertiary\") 5 - default: has credit in default? (binary: \"yes\",\"no\") 6 - balance: average yearly balance, in euros (numeric) 7 - housing: has housing loan? (binary: \"yes\",\"no\") 8 - loan: has personal loan? (binary: \"yes\",\"no\")\n",
    "\n",
    "<b>related with the last contact of the current campaign</b>\n",
    "9 - contact: contact communication type (categorical: \"unknown\",\"telephone\",\"cellular\") 10 - day: last contact day of the month (numeric) 11 - month: last contact month of year (categorical: \"jan\", \"feb\", \"mar\", ..., \"nov\", \"dec\") 12 - duration: last contact duration, in seconds (numeric)\n",
    "\n",
    "<b>other attributes</b>\n",
    "13 - campaign: number of contacts performed during this campaign and for this client (numeric, includes last contact) 14 - pdays: number of days that passed by after the client was last contacted from a previous campaign (numeric, -1 means client was not previously contacted) 15 - previous: number of contacts performed before this campaign and for this client (numeric) 16 - poutcome: outcome of the previous marketing campaign (categorical: \"unknown\",\"other\",\"failure\",\"success\")\n",
    "\n",
    "<b>Output variable</b>\n",
    "17 - y - has the client subscribed a term deposit? (binary: \"yes\",\"no\")\n",
    "\n",
    "Missing Attribute Values: None"
   ]
  },
  {
   "cell_type": "code",
   "execution_count": 2,
   "metadata": {
    "scrolled": true
   },
   "outputs": [],
   "source": [
    "import numpy as np\n",
    "import pandas as pd\n",
    "import matplotlib.pyplot as plt\n",
    "import seaborn as sns\n",
    "%matplotlib inline\n",
    "\n",
    "from sklearn.preprocessing import LabelEncoder\n",
    "from sklearn.model_selection import train_test_split\n",
    "from sklearn.decomposition import PCA\n",
    "from sklearn.utils import resample\n",
    "from sklearn.preprocessing import StandardScaler\n",
    "from imblearn.over_sampling import RandomOverSampler\n",
    "from imblearn.over_sampling import SMOTE\n",
    "from sklearn.ensemble import RandomForestClassifier\n",
    "from sklearn.linear_model import LogisticRegression\n",
    "from sklearn.svm import SVC\n",
    "from sklearn.ensemble import AdaBoostClassifier\n",
    "from sklearn.tree import DecisionTreeClassifier\n",
    "from sklearn.neighbors import KNeighborsClassifier\n",
    "from sklearn.neural_network import MLPClassifier\n",
    "from sklearn.metrics import f1_score\n",
    "from sklearn import metrics\n",
    "from sklearn.model_selection import GridSearchCV\n",
    "\n",
    "from sklearn.model_selection import learning_curve\n",
    "\n",
    "\n",
    "import warnings\n",
    "warnings.filterwarnings('ignore')"
   ]
  },
  {
   "cell_type": "markdown",
   "metadata": {},
   "source": [
    "Data preprocessing"
   ]
  },
  {
   "cell_type": "code",
   "execution_count": 3,
   "metadata": {
    "scrolled": true
   },
   "outputs": [
    {
     "data": {
      "text/plain": [
       "age            77\n",
       "job            12\n",
       "marital         3\n",
       "education       4\n",
       "default         2\n",
       "balance      7168\n",
       "housing         2\n",
       "loan            2\n",
       "contact         3\n",
       "day            31\n",
       "month          12\n",
       "duration     1573\n",
       "campaign       48\n",
       "pdays         559\n",
       "previous       41\n",
       "poutcome        4\n",
       "y               2\n",
       "dtype: int64"
      ]
     },
     "execution_count": 3,
     "metadata": {},
     "output_type": "execute_result"
    }
   ],
   "source": [
    "bank = pd.read_csv('bank-full.csv')\n",
    "bank = pd.DataFrame(bank)\n",
    "bank.isnull().sum()\n",
    "bank.nunique()"
   ]
  },
  {
   "cell_type": "code",
   "execution_count": 4,
   "metadata": {},
   "outputs": [],
   "source": [
    "def prepareData(bank):\n",
    "  #  print(\"****************************** General info ******************************\")\n",
    "    #print(bank.shape)\n",
    "    #print(bank.head())\n",
    "   # print(\"\\n>>> value counts of target variable:\\n\")\n",
    "    #print(bank['y'].value_counts())\n",
    "\n",
    "    le = LabelEncoder()\n",
    "    bank['y'] = le.fit_transform(bank['y'])\n",
    "\n",
    "    #print(\"\\n>>> Data related to client\\n\")\n",
    "    client = bank.iloc[:,0:8]\n",
    "    labelencoder_X = LabelEncoder()\n",
    "    client['default']  = labelencoder_X.fit_transform(client['default']) \n",
    "    client['housing']  = labelencoder_X.fit_transform(client['housing']) \n",
    "    client['loan']     = labelencoder_X.fit_transform(client['loan']) \n",
    "    client = pd.get_dummies(client, drop_first=True)\n",
    "\n",
    "\n",
    "    #print(\"\\n>>> Data related to last contact\\n\")\n",
    "    last_cont = bank.iloc[:,8:12]\n",
    "    labelencoder_X = LabelEncoder()\n",
    "    last_cont['month']       = labelencoder_X.fit_transform(last_cont['month']) \n",
    "    #last_cont['day'] = labelencoder_X.fit_transform(last_cont['day']) \n",
    "    last_cont = pd.get_dummies(last_cont, drop_first=True)\n",
    "\n",
    "\n",
    "    #print(\"\\n>>> others features\\n\")\n",
    "    others = bank.iloc[:,12:16]\n",
    "    #others['poutcome'].replace(['unknown', 'failure', 'success','other'], [1,2,3,4], inplace  = True)\n",
    "    others = pd.get_dummies(others, drop_first=True)\n",
    "    #print(\"\\n>>> final form of data\\n\")\n",
    "    final= pd.concat([client, last_cont,others], axis = 1)\n",
    "    final.shape\n",
    "    final = pd.concat([final,bank['y']],axis = 1)\n",
    "    #print(final.head())\n",
    "\n",
    "    #split data\n",
    "    X=final.drop(\"y\",axis=1)\n",
    "    y = final['y']\n",
    "    X_train, X_test, y_train, y_test = train_test_split( X, y, test_size=0.2, random_state=0)\n",
    "\n",
    "    #standarization\n",
    "    sc_X = StandardScaler()\n",
    "    X_train = sc_X.fit_transform(X_train)\n",
    "    X_test = sc_X.transform(X_test)\n",
    "    X_train, X_valid, y_train, y_valid = train_test_split(X_train, y_train, test_size=0.2, random_state=0)\n",
    "    return X_train, y_train, X_valid, y_valid, X_test, y_test, final"
   ]
  },
  {
   "cell_type": "code",
   "execution_count": 4,
   "metadata": {},
   "outputs": [
    {
     "data": {
      "text/html": [
       "<div>\n",
       "<style scoped>\n",
       "    .dataframe tbody tr th:only-of-type {\n",
       "        vertical-align: middle;\n",
       "    }\n",
       "\n",
       "    .dataframe tbody tr th {\n",
       "        vertical-align: top;\n",
       "    }\n",
       "\n",
       "    .dataframe thead th {\n",
       "        text-align: right;\n",
       "    }\n",
       "</style>\n",
       "<table border=\"1\" class=\"dataframe\">\n",
       "  <thead>\n",
       "    <tr style=\"text-align: right;\">\n",
       "      <th></th>\n",
       "      <th>age</th>\n",
       "      <th>default</th>\n",
       "      <th>balance</th>\n",
       "      <th>housing</th>\n",
       "      <th>loan</th>\n",
       "      <th>job_blue-collar</th>\n",
       "      <th>job_entrepreneur</th>\n",
       "      <th>job_housemaid</th>\n",
       "      <th>job_management</th>\n",
       "      <th>job_retired</th>\n",
       "      <th>...</th>\n",
       "      <th>duration</th>\n",
       "      <th>contact_telephone</th>\n",
       "      <th>contact_unknown</th>\n",
       "      <th>campaign</th>\n",
       "      <th>pdays</th>\n",
       "      <th>previous</th>\n",
       "      <th>poutcome_other</th>\n",
       "      <th>poutcome_success</th>\n",
       "      <th>poutcome_unknown</th>\n",
       "      <th>y</th>\n",
       "    </tr>\n",
       "  </thead>\n",
       "  <tbody>\n",
       "    <tr>\n",
       "      <td>0</td>\n",
       "      <td>58</td>\n",
       "      <td>0</td>\n",
       "      <td>2143</td>\n",
       "      <td>1</td>\n",
       "      <td>0</td>\n",
       "      <td>0</td>\n",
       "      <td>0</td>\n",
       "      <td>0</td>\n",
       "      <td>1</td>\n",
       "      <td>0</td>\n",
       "      <td>...</td>\n",
       "      <td>261</td>\n",
       "      <td>0</td>\n",
       "      <td>1</td>\n",
       "      <td>1</td>\n",
       "      <td>-1</td>\n",
       "      <td>0</td>\n",
       "      <td>0</td>\n",
       "      <td>0</td>\n",
       "      <td>1</td>\n",
       "      <td>0</td>\n",
       "    </tr>\n",
       "    <tr>\n",
       "      <td>1</td>\n",
       "      <td>44</td>\n",
       "      <td>0</td>\n",
       "      <td>29</td>\n",
       "      <td>1</td>\n",
       "      <td>0</td>\n",
       "      <td>0</td>\n",
       "      <td>0</td>\n",
       "      <td>0</td>\n",
       "      <td>0</td>\n",
       "      <td>0</td>\n",
       "      <td>...</td>\n",
       "      <td>151</td>\n",
       "      <td>0</td>\n",
       "      <td>1</td>\n",
       "      <td>1</td>\n",
       "      <td>-1</td>\n",
       "      <td>0</td>\n",
       "      <td>0</td>\n",
       "      <td>0</td>\n",
       "      <td>1</td>\n",
       "      <td>0</td>\n",
       "    </tr>\n",
       "    <tr>\n",
       "      <td>2</td>\n",
       "      <td>33</td>\n",
       "      <td>0</td>\n",
       "      <td>2</td>\n",
       "      <td>1</td>\n",
       "      <td>1</td>\n",
       "      <td>0</td>\n",
       "      <td>1</td>\n",
       "      <td>0</td>\n",
       "      <td>0</td>\n",
       "      <td>0</td>\n",
       "      <td>...</td>\n",
       "      <td>76</td>\n",
       "      <td>0</td>\n",
       "      <td>1</td>\n",
       "      <td>1</td>\n",
       "      <td>-1</td>\n",
       "      <td>0</td>\n",
       "      <td>0</td>\n",
       "      <td>0</td>\n",
       "      <td>1</td>\n",
       "      <td>0</td>\n",
       "    </tr>\n",
       "    <tr>\n",
       "      <td>3</td>\n",
       "      <td>47</td>\n",
       "      <td>0</td>\n",
       "      <td>1506</td>\n",
       "      <td>1</td>\n",
       "      <td>0</td>\n",
       "      <td>1</td>\n",
       "      <td>0</td>\n",
       "      <td>0</td>\n",
       "      <td>0</td>\n",
       "      <td>0</td>\n",
       "      <td>...</td>\n",
       "      <td>92</td>\n",
       "      <td>0</td>\n",
       "      <td>1</td>\n",
       "      <td>1</td>\n",
       "      <td>-1</td>\n",
       "      <td>0</td>\n",
       "      <td>0</td>\n",
       "      <td>0</td>\n",
       "      <td>1</td>\n",
       "      <td>0</td>\n",
       "    </tr>\n",
       "    <tr>\n",
       "      <td>4</td>\n",
       "      <td>33</td>\n",
       "      <td>0</td>\n",
       "      <td>1</td>\n",
       "      <td>0</td>\n",
       "      <td>0</td>\n",
       "      <td>0</td>\n",
       "      <td>0</td>\n",
       "      <td>0</td>\n",
       "      <td>0</td>\n",
       "      <td>0</td>\n",
       "      <td>...</td>\n",
       "      <td>198</td>\n",
       "      <td>0</td>\n",
       "      <td>1</td>\n",
       "      <td>1</td>\n",
       "      <td>-1</td>\n",
       "      <td>0</td>\n",
       "      <td>0</td>\n",
       "      <td>0</td>\n",
       "      <td>1</td>\n",
       "      <td>0</td>\n",
       "    </tr>\n",
       "  </tbody>\n",
       "</table>\n",
       "<p>5 rows × 33 columns</p>\n",
       "</div>"
      ],
      "text/plain": [
       "   age  default  balance  housing  loan  job_blue-collar  job_entrepreneur  \\\n",
       "0   58        0     2143        1     0                0                 0   \n",
       "1   44        0       29        1     0                0                 0   \n",
       "2   33        0        2        1     1                0                 1   \n",
       "3   47        0     1506        1     0                1                 0   \n",
       "4   33        0        1        0     0                0                 0   \n",
       "\n",
       "   job_housemaid  job_management  job_retired  ...  duration  \\\n",
       "0              0               1            0  ...       261   \n",
       "1              0               0            0  ...       151   \n",
       "2              0               0            0  ...        76   \n",
       "3              0               0            0  ...        92   \n",
       "4              0               0            0  ...       198   \n",
       "\n",
       "   contact_telephone  contact_unknown  campaign  pdays  previous  \\\n",
       "0                  0                1         1     -1         0   \n",
       "1                  0                1         1     -1         0   \n",
       "2                  0                1         1     -1         0   \n",
       "3                  0                1         1     -1         0   \n",
       "4                  0                1         1     -1         0   \n",
       "\n",
       "   poutcome_other  poutcome_success  poutcome_unknown  y  \n",
       "0               0                 0                 1  0  \n",
       "1               0                 0                 1  0  \n",
       "2               0                 0                 1  0  \n",
       "3               0                 0                 1  0  \n",
       "4               0                 0                 1  0  \n",
       "\n",
       "[5 rows x 33 columns]"
      ]
     },
     "execution_count": 4,
     "metadata": {},
     "output_type": "execute_result"
    }
   ],
   "source": [
    "X_train, y_train, X_valid, y_valid, X_test, y_test, final = prepareData(bank)\n",
    "final.head()"
   ]
  },
  {
   "cell_type": "code",
   "execution_count": 5,
   "metadata": {},
   "outputs": [
    {
     "name": "stdout",
     "output_type": "stream",
     "text": [
      "5 0.3322783549363608\n",
      "10 0.5118244164630351\n",
      "15 0.6746462288836544\n",
      "20 0.820215585695255\n",
      "25 0.934320116301499\n",
      "30 0.9929835288564259\n"
     ]
    }
   ],
   "source": [
    "for i in range(1,7):\n",
    "    pca = PCA(n_components=i*5)\n",
    "    pca.fit(X_train)\n",
    "    print(i*5, pca.explained_variance_ratio_.sum())"
   ]
  },
  {
   "cell_type": "code",
   "execution_count": 6,
   "metadata": {},
   "outputs": [],
   "source": [
    "def find_thresh_and_f1(clf, X_valid, y_valid):\n",
    "    best_f1=0\n",
    "    best_thresh=0\n",
    "    thresh = 0.05\n",
    "    prob = clf.predict_proba(X_valid)\n",
    "    while thresh < 1:\n",
    "        label = (prob[:,0] < thresh).astype(np.int)\n",
    "        f1 = f1_score(y_valid,label)\n",
    "#         print(f1)\n",
    "        if f1 > best_f1:\n",
    "            best_f1 = f1\n",
    "            best_thresh = thresh\n",
    "        thresh += 0.05\n",
    "    return best_thresh, best_f1"
   ]
  },
  {
   "cell_type": "markdown",
   "metadata": {},
   "source": [
    "Random Forest"
   ]
  },
  {
   "cell_type": "code",
   "execution_count": null,
   "metadata": {},
   "outputs": [],
   "source": [
    "Best_model=None\n",
    "Best_score=0\n",
    "Best_thresh = 0\n",
    "for n in range(2,20):\n",
    "    for c in [\"gini\",\"entropy\"]:\n",
    "        for mf in [\"auto\",None]:\n",
    "            clf = RandomForestClassifier(max_depth=n, criterion=c, max_features=mf,n_jobs=2)\n",
    "            clf.fit(X_train, y_train)\n",
    "            thresh, score = find_thresh_and_f1(clf, X_valid, y_valid)\n",
    "          #  print(n, c, mf, score)\n",
    "            if score>Best_score:\n",
    "                Best_model=clf\n",
    "                Best_score= score\n",
    "                Best_thresh = thresh\n",
    "            "
   ]
  },
  {
   "cell_type": "code",
   "execution_count": 8,
   "metadata": {},
   "outputs": [
    {
     "name": "stdout",
     "output_type": "stream",
     "text": [
      "best forest RandomForestClassifier(bootstrap=True, ccp_alpha=0.0, class_weight=None,\n",
      "                       criterion='entropy', max_depth=16, max_features=None,\n",
      "                       max_leaf_nodes=None, max_samples=None,\n",
      "                       min_impurity_decrease=0.0, min_impurity_split=None,\n",
      "                       min_samples_leaf=1, min_samples_split=2,\n",
      "                       min_weight_fraction_leaf=0.0, n_estimators=100, n_jobs=2,\n",
      "                       oob_score=False, random_state=None, verbose=0,\n",
      "                       warm_start=False) f1 0.6014652014652014\n"
     ]
    }
   ],
   "source": [
    "y_pred = Best_model.predict_proba(X_test)\n",
    "label = (y_pred[:,0] < Best_thresh).astype(np.int)\n",
    "f1_forest = f1_score(y_test,label)\n",
    "thresh_forest = Best_thresh\n",
    "best_forest = Best_model \n",
    "print(\"best forest\",best_forest,'f1', f1_forest)"
   ]
  },
  {
   "cell_type": "code",
   "execution_count": 9,
   "metadata": {},
   "outputs": [],
   "source": [
    "train_sizes, train_scores, test_scores = learning_curve(estimator=best_forest, X=X_train, y=y_train, \n",
    "                                                        train_sizes=np.linspace(0.1, 1.0, 10), \n",
    "                                                        cv=10, n_jobs=1,scoring=\"f1\")\n",
    "\n",
    "train_mean = np.mean(train_scores, axis=1) \n",
    "train_std = np.std(train_scores, axis=1) \n",
    "test_mean = np.mean(test_scores, axis=1) \n",
    "test_std = np.std(test_scores, axis=1) \n"
   ]
  },
  {
   "cell_type": "code",
   "execution_count": 10,
   "metadata": {},
   "outputs": [
    {
     "data": {
      "image/png": "[encoded data removed]",
      "text/plain": [
       "<Figure size 432x288 with 1 Axes>"
      ]
     },
     "metadata": {
      "needs_background": "light"
     },
     "output_type": "display_data"
    }
   ],
   "source": [
    "plt.plot(train_sizes, train_mean,color='blue', marker='o', markersize=5, label='training accuracy')\n",
    "plt.fill_between(train_sizes, train_mean + train_std, train_mean - train_std,alpha=0.15, color='blue')\n",
    "plt.plot(train_sizes, test_mean, color='green', linestyle='--', marker='s', markersize=5, label='validation accuracy')\n",
    "plt.fill_between(train_sizes, test_mean + test_std, test_mean - test_std, alpha=0.15, color='green')\n",
    "\n",
    "plt.grid()\n",
    "plt.xlabel('Number of training samples')\n",
    "plt.ylabel('f1_score')\n",
    "plt.legend(loc='lower right') \n",
    "plt.ylim([-0.8, 1.2])\n",
    "plt.show()"
   ]
  },
  {
   "cell_type": "markdown",
   "metadata": {},
   "source": [
    "Logistic regression"
   ]
  },
  {
   "cell_type": "code",
   "execution_count": null,
   "metadata": {},
   "outputs": [],
   "source": [
    "Best_model=None\n",
    "Best_score=0\n",
    "Best_thresh = 0\n",
    "c=0.0001\n",
    "while c < 1000:\n",
    "        clf = LogisticRegression(C=c)\n",
    "        clf.fit(X_train, y_train)\n",
    "        thresh, score = find_thresh_and_f1(clf, X_valid, y_valid)\n",
    "        print(c,score)\n",
    "        if score>Best_score:\n",
    "            Best_model=clf\n",
    "            Best_score= score\n",
    "            Best_thresh = thresh\n",
    "        c *= 10"
   ]
  },
  {
   "cell_type": "code",
   "execution_count": 13,
   "metadata": {
    "scrolled": true
   },
   "outputs": [
    {
     "name": "stdout",
     "output_type": "stream",
     "text": [
      "best logreg LogisticRegression(C=0.01, class_weight=None, dual=False, fit_intercept=True,\n",
      "                   intercept_scaling=1, l1_ratio=None, max_iter=100,\n",
      "                   multi_class='auto', n_jobs=None, penalty='l2',\n",
      "                   random_state=None, solver='lbfgs', tol=0.0001, verbose=0,\n",
      "                   warm_start=False) f1 0.5302390998593529\n"
     ]
    }
   ],
   "source": [
    "y_pred = Best_model.predict_proba(X_test)\n",
    "label = (y_pred[:,0] < Best_thresh).astype(np.int)\n",
    "f1_logreg = f1_score(y_test,label)\n",
    "best_logreg = Best_model \n",
    "thresh_logreg= Best_thresh\n",
    "print(\"best logreg\",best_logreg,'f1', f1_logreg)"
   ]
  },
  {
   "cell_type": "markdown",
   "metadata": {},
   "source": [
    "AdaBoost"
   ]
  },
  {
   "cell_type": "code",
   "execution_count": null,
   "metadata": {},
   "outputs": [],
   "source": [
    "Best_model=None\n",
    "Best_score=0\n",
    "Best_thresh = 0\n",
    "for n in range(1,20):\n",
    "    for c in [\"gini\",\"entropy\"]:\n",
    "        for lr in [0.001,0.01, 0.1, 0.2, 0.5,1,10]:\n",
    "            tree = DecisionTreeClassifier(criterion=c, \n",
    "                              max_depth=n,\n",
    "                              random_state=0)\n",
    "            clf = AdaBoostClassifier(base_estimator=tree,\n",
    "                         n_estimators=100, \n",
    "                         learning_rate=lr,\n",
    "                         random_state=0)\n",
    "            clf.fit(X_train, y_train)\n",
    "            thresh, score = find_thresh_and_auc(clf, X_valid, y_valid)\n",
    "            print(n, c, lr, score)\n",
    "            if score>Best_score:\n",
    "                Best_model=clf\n",
    "                Best_score= score\n",
    "                Best_thresh = thresh"
   ]
  },
  {
   "cell_type": "code",
   "execution_count": null,
   "metadata": {},
   "outputs": [],
   "source": [
    "y_pred = Best_model.predict_proba(X_test)\n",
    "label = (y_pred[:,0] < Best_thresh).astype(np.int)\n",
    "f1_adab = f1_score(y_test,label)\n",
    "best_adab = Best_model \n",
    "print(\"best adab\",best_adab,'f1', f1_adab)\n",
    "classification_report(y_test,y_pred)"
   ]
  },
  {
   "cell_type": "markdown",
   "metadata": {},
   "source": [
    "SVM"
   ]
  },
  {
   "cell_type": "code",
   "execution_count": 7,
   "metadata": {},
   "outputs": [
    {
     "data": {
      "text/plain": [
       "0    2561\n",
       "1     331\n",
       "Name: y, dtype: int64"
      ]
     },
     "execution_count": 7,
     "metadata": {},
     "output_type": "execute_result"
    }
   ],
   "source": [
    "bank_small = pd.read_csv('bank.csv')\n",
    "bank_small = pd.DataFrame(bank_small)\n",
    "X_train, y_train, X_valid, y_valid, X_test, y_test,final = prepareData(bank_small)\n",
    "y_train.value_counts()"
   ]
  },
  {
   "cell_type": "code",
   "execution_count": 8,
   "metadata": {},
   "outputs": [
    {
     "name": "stdout",
     "output_type": "stream",
     "text": [
      "Fitting 5 folds for each of 98 candidates, totalling 490 fits\n"
     ]
    },
    {
     "name": "stderr",
     "output_type": "stream",
     "text": [
      "[Parallel(n_jobs=4)]: Using backend LokyBackend with 4 concurrent workers.\n",
      "[Parallel(n_jobs=4)]: Done  24 tasks      | elapsed:    5.6s\n",
      "[Parallel(n_jobs=4)]: Done 120 tasks      | elapsed:   23.5s\n",
      "[Parallel(n_jobs=4)]: Done 280 tasks      | elapsed:   57.4s\n",
      "[Parallel(n_jobs=4)]: Done 490 out of 490 | elapsed:  1.9min finished\n"
     ]
    },
    {
     "data": {
      "text/plain": [
       "GridSearchCV(cv=None, error_score=nan,\n",
       "             estimator=SVC(C=1.0, break_ties=False, cache_size=200,\n",
       "                           class_weight=None, coef0=0.0,\n",
       "                           decision_function_shape='ovr', degree=3,\n",
       "                           gamma='scale', kernel='rbf', max_iter=-1,\n",
       "                           probability=True, random_state=None, shrinking=True,\n",
       "                           tol=0.001, verbose=False),\n",
       "             iid='deprecated', n_jobs=4,\n",
       "             param_grid={'C': [0.001, 0.01, 0.1, 1, 10, 100, 1000],\n",
       "                         'gamma': [100, 10, 1, 0.1, 0.01, 0.001, 0.0001],\n",
       "                         'kernel': ['rbf', 'poly']},\n",
       "             pre_dispatch='2*n_jobs', refit=True, return_train_score=False,\n",
       "             scoring='f1', verbose=3)"
      ]
     },
     "execution_count": 8,
     "metadata": {},
     "output_type": "execute_result"
    }
   ],
   "source": [
    "param_grid = {'C': [0.001,0.01,0.1, 1, 10, 100, 1000],  \n",
    "              'gamma': [100,10,1, 0.1, 0.01, 0.001, 0.0001], \n",
    "              'kernel': ['rbf','poly']}  \n",
    "grid = GridSearchCV(SVC(probability=True), param_grid,n_jobs=4, refit = True, verbose = 3,scoring ='f1') \n",
    "grid.fit(X_train, y_train) "
   ]
  },
  {
   "cell_type": "code",
   "execution_count": 15,
   "metadata": {},
   "outputs": [
    {
     "name": "stdout",
     "output_type": "stream",
     "text": [
      "{'C': 0.01, 'gamma': 1, 'kernel': 'poly'}\n",
      "SVC(C=0.01, break_ties=False, cache_size=200, class_weight=None, coef0=0.0,\n",
      "    decision_function_shape='ovr', degree=3, gamma=1, kernel='poly',\n",
      "    max_iter=-1, probability=True, random_state=None, shrinking=True, tol=0.001,\n",
      "    verbose=False)\n"
     ]
    }
   ],
   "source": [
    "# print best parameter after tuning \n",
    "print(grid.best_params_) \n",
    "  \n",
    "# print how our model looks after hyper-parameter tuning \n",
    "print(grid.best_estimator_) "
   ]
  },
  {
   "cell_type": "code",
   "execution_count": null,
   "metadata": {},
   "outputs": [],
   "source": [
    "best_svm1 = grid.best_estimator_\n",
    "y_pred =best_svm1.predict(X_test)\n",
    "#label = (y_pred[:,0] < Best_thresh).astype(np.int)\n",
    "f1_svm1 = f1_score(y_test,y_pred)\n",
    "print(\"best svm\",best_svm1,'f1', f1_svm1)"
   ]
  },
  {
   "cell_type": "code",
   "execution_count": 32,
   "metadata": {},
   "outputs": [
    {
     "data": {
      "text/plain": [
       "SVC(C=0.01, break_ties=False, cache_size=200, class_weight=None, coef0=0.0,\n",
       "    decision_function_shape='ovr', degree=3, gamma=1, kernel='poly',\n",
       "    max_iter=-1, probability=True, random_state=None, shrinking=True, tol=0.001,\n",
       "    verbose=False)"
      ]
     },
     "execution_count": 32,
     "metadata": {},
     "output_type": "execute_result"
    }
   ],
   "source": [
    "svm = SVC(C=0.01, break_ties=False, cache_size=200, class_weight=None, coef0=0.0,\n",
    "    decision_function_shape='ovr', degree=3, gamma=1, kernel='poly',\n",
    "    max_iter=-1, probability=True, random_state=None, shrinking=True, tol=0.001,\n",
    "    verbose=False)\n",
    "svm.fit(X_train,y_train)"
   ]
  },
  {
   "cell_type": "code",
   "execution_count": 34,
   "metadata": {},
   "outputs": [
    {
     "name": "stdout",
     "output_type": "stream",
     "text": [
      "best svm SVC(C=0.01, break_ties=False, cache_size=200, class_weight=None, coef0=0.0,\n",
      "    decision_function_shape='ovr', degree=3, gamma=1, kernel='poly',\n",
      "    max_iter=-1, probability=True, random_state=None, shrinking=True, tol=0.001,\n",
      "    verbose=False) f1 0.4621893178212586\n"
     ]
    }
   ],
   "source": [
    "best_svm = svm\n",
    "y_pred =best_svm.predict(X_test)\n",
    "f1_svm = f1_score(y_test,y_pred)\n",
    "print(\"best svm\",best_svm,'f1', f1_svm)"
   ]
  },
  {
   "cell_type": "markdown",
   "metadata": {},
   "source": [
    "KNN"
   ]
  },
  {
   "cell_type": "code",
   "execution_count": null,
   "metadata": {},
   "outputs": [],
   "source": [
    "Best_model=None\n",
    "Best_score=0\n",
    "Best_thresh = 0\n",
    "for p in range(1,2):\n",
    "    for k in range(2,20):\n",
    "        clf = KNeighborsClassifier(n_neighbors=k, p=p,metric='minkowski')\n",
    "        clf.fit(X_train, y_train)\n",
    "        thresh, score = find_thresh_and_f1(clf, X_valid, y_valid)\n",
    "        #print(p,k,score)\n",
    "        if score>Best_score:\n",
    "            Best_model=clf\n",
    "            Best_score= score\n",
    "            Best_thresh = thresh"
   ]
  },
  {
   "cell_type": "code",
   "execution_count": 38,
   "metadata": {},
   "outputs": [
    {
     "name": "stdout",
     "output_type": "stream",
     "text": [
      "best KNN KNeighborsClassifier(algorithm='auto', leaf_size=30, metric='minkowski',\n",
      "                     metric_params=None, n_jobs=None, n_neighbors=15, p=1,\n",
      "                     weights='uniform') f1 0.5046869141357331\n"
     ]
    }
   ],
   "source": [
    "y_pred = Best_model.predict_proba(X_test)\n",
    "label = (y_pred[:,0] < Best_thresh).astype(np.int)\n",
    "f1_knn = f1_score(y_test,label)\n",
    "best_knn = Best_model \n",
    "print(\"best KNN\",best_knn,'f1', f1_knn)"
   ]
  },
  {
   "cell_type": "markdown",
   "metadata": {},
   "source": [
    "MLPClassifier"
   ]
  },
  {
   "cell_type": "code",
   "execution_count": null,
   "metadata": {},
   "outputs": [],
   "source": [
    "mlp = MLPClassifier(hidden_layer_sizes=(150,150,150,100,50), max_iter=1000,activation = 'relu',solver='adam',random_state=1)\n",
    "mlp.fit(X_train, y_train.values.ravel())"
   ]
  },
  {
   "cell_type": "code",
   "execution_count": null,
   "metadata": {},
   "outputs": [],
   "source": [
    "mlp = MLPClassifier(max_iter=100)\n",
    "parameter_space = {\n",
    "    'hidden_layer_sizes': [(50,50,50), (50,100,50), (100,)],\n",
    "    'activation': ['tanh', 'relu'],\n",
    "    'solver': ['sgd', 'adam'],\n",
    "    'alpha': [0.0001, 0.05],\n",
    "    'learning_rate': ['constant','adaptive'],\n",
    "}\n",
    "\n",
    "\n",
    "clf = GridSearchCV(mlp, parameter_space, n_jobs=-2, cv=5,scoring='f1')\n",
    "clf.fit(X_train, y_train)\n",
    "\n",
    "\n",
    "print('Best parameters found:\\n', clf.best_params_)\n",
    "means = clf.cv_results_['mean_test_score']\n",
    "stds = clf.cv_results_['std_test_score']\n",
    "for mean, std, params in zip(means, stds, clf.cv_results_['params']):\n",
    "    print(\"%0.3f (+/-%0.03f) for %r\" % (mean, std * 2, params))"
   ]
  },
  {
   "cell_type": "code",
   "execution_count": 40,
   "metadata": {},
   "outputs": [
    {
     "name": "stdout",
     "output_type": "stream",
     "text": [
      "best adab MLPClassifier(activation='tanh', alpha=0.05, batch_size='auto', beta_1=0.9,\n",
      "              beta_2=0.999, early_stopping=False, epsilon=1e-08,\n",
      "              hidden_layer_sizes=(50, 50, 50), learning_rate='constant',\n",
      "              learning_rate_init=0.001, max_fun=15000, max_iter=100,\n",
      "              momentum=0.9, n_iter_no_change=10, nesterovs_momentum=True,\n",
      "              power_t=0.5, random_state=None, shuffle=True, solver='adam',\n",
      "              tol=0.0001, validation_fraction=0.1, verbose=False,\n",
      "              warm_start=False) f1 0.47584033613445376\n"
     ]
    }
   ],
   "source": [
    "best_adab =clf.best_estimator_\n",
    "y_pred = best_adab.predict(X_test)\n",
    "f1_nlp = f1_score(y_test,y_pred)\n",
    "best_nlp =clf.best_estimator_\n",
    "print(\"best adab\",best_nlp,'f1', f1_nlp)"
   ]
  },
  {
   "cell_type": "markdown",
   "metadata": {},
   "source": [
    "SMOTE, UNDERSAMPLING"
   ]
  },
  {
   "cell_type": "code",
   "execution_count": 7,
   "metadata": {},
   "outputs": [
    {
     "data": {
      "text/plain": [
       "0    2561\n",
       "1     331\n",
       "Name: y, dtype: int64"
      ]
     },
     "execution_count": 7,
     "metadata": {},
     "output_type": "execute_result"
    }
   ],
   "source": [
    "bank_small = pd.read_csv('bank.csv')\n",
    "bank_small = pd.DataFrame(bank_small)\n",
    "X_train, y_train, X_valid, y_valid, X_test, y_test,final = prepareData(bank_small)\n",
    "y_train.value_counts()"
   ]
  },
  {
   "cell_type": "code",
   "execution_count": 8,
   "metadata": {},
   "outputs": [],
   "source": [
    "def overSMOTE(X_train,y_train,samp_strat):\n",
    "    sm = SMOTE(sampling_strategy=samp_strat,k_neighbors=5,n_jobs=2)\n",
    "    X_train, y_train = sm.fit_sample(X_train, y_train)\n",
    "    y_train.value_counts()\n",
    "    return X_train,y_train "
   ]
  },
  {
   "cell_type": "code",
   "execution_count": 9,
   "metadata": {},
   "outputs": [],
   "source": [
    "def concat(X_train,y_train,columns):\n",
    "    df_y_train = pd.DataFrame(y_train,columns=['y'])\n",
    "    df_X_train = pd.DataFrame(data=X_train,columns=columns)\n",
    "    df_X_train.reset_index(drop=True, inplace=True)\n",
    "    df_y_train.reset_index(drop=True, inplace=True)\n",
    "    X= pd.concat([df_X_train, df_y_train], axis = 1)\n",
    "    return X"
   ]
  },
  {
   "cell_type": "code",
   "execution_count": 10,
   "metadata": {},
   "outputs": [],
   "source": [
    "def resamp(X,n_samples):\n",
    "    not_subscribed = X[X.y==0]\n",
    "    subscribed = X[X.y==1]\n",
    "\n",
    "    not_subscribed_undersampled = resample(not_subscribed,\n",
    "                              replace=False, \n",
    "                              n_samples=n_samples, \n",
    "                              random_state=1) \n",
    "    not_subscribed_undersampled.reset_index(drop=True, inplace=True)\n",
    "    subscribed.reset_index(drop=True, inplace=True)\n",
    "    undersampled = pd.concat([not_subscribed_undersampled,subscribed], axis = 0)\n",
    "    print(undersampled.y.value_counts())\n",
    "    y_train = undersampled.y\n",
    "    X_train = undersampled.drop('y', axis=1)\n",
    "    return X_train, y_train"
   ]
  },
  {
   "cell_type": "code",
   "execution_count": 11,
   "metadata": {},
   "outputs": [
    {
     "data": {
      "text/plain": [
       "0    2561\n",
       "1    2304\n",
       "Name: y, dtype: int64"
      ]
     },
     "execution_count": 11,
     "metadata": {},
     "output_type": "execute_result"
    }
   ],
   "source": [
    "X_train,y_train = overSMOTE(X_train,y_train,0.9)\n",
    "y_train.value_counts()"
   ]
  },
  {
   "cell_type": "code",
   "execution_count": null,
   "metadata": {},
   "outputs": [],
   "source": [
    "Best_model=None\n",
    "Best_score=0\n",
    "Best_thresh = 0\n",
    "\n",
    "for C in [0.001,0.01,0.1,1,10,100,1000]:\n",
    "    for gamma in [10,1, 0.1, 0.01, 0.001, 0.0001]:\n",
    "        for kernel in ['rbf', 'poly']:\n",
    "            clf = SVC(C=C,gamma=gamma,kernel=kernel,probability=True)\n",
    "            clf.fit(X_train, y_train)\n",
    "            thresh, score = find_thresh_and_f1(clf, X_valid, y_valid)\n",
    "            print(C,gamma,score)\n",
    "            if score>Best_score:\n",
    "                Best_model=clf\n",
    "                Best_score= score\n",
    "                Best_thresh = thresh"
   ]
  },
  {
   "cell_type": "code",
   "execution_count": 14,
   "metadata": {},
   "outputs": [
    {
     "name": "stdout",
     "output_type": "stream",
     "text": [
      "SVC(C=100, break_ties=False, cache_size=200, class_weight=None, coef0=0.0,\n",
      "    decision_function_shape='ovr', degree=3, gamma=0.0001, kernel='rbf',\n",
      "    max_iter=-1, probability=True, random_state=None, shrinking=True, tol=0.001,\n",
      "    verbose=False)\n"
     ]
    },
    {
     "data": {
      "text/plain": [
       "0.5864661654135338"
      ]
     },
     "execution_count": 14,
     "metadata": {},
     "output_type": "execute_result"
    }
   ],
   "source": [
    "best_svm_smote = Best_model\n",
    "print(best_svm_smote)\n",
    "y_pred = Best_model.predict_proba(X_test)\n",
    "label = (y_pred[:,0] < Best_thresh).astype(np.int)\n",
    "f1_score(y_test,label)"
   ]
  },
  {
   "cell_type": "code",
   "execution_count": 20,
   "metadata": {},
   "outputs": [
    {
     "data": {
      "text/plain": [
       "0    25575\n",
       "1    23017\n",
       "Name: y, dtype: int64"
      ]
     },
     "execution_count": 20,
     "metadata": {},
     "output_type": "execute_result"
    }
   ],
   "source": [
    "X_train, y_train, X_valid, y_valid, X_test, y_test,final = prepareData(bank)\n",
    "columns = final.drop('y',axis=1).columns\n",
    "X_train,y_train = overSMOTE(X_train,y_train,0.9)\n",
    "y_train.value_counts()"
   ]
  },
  {
   "cell_type": "code",
   "execution_count": 17,
   "metadata": {},
   "outputs": [
    {
     "name": "stdout",
     "output_type": "stream",
     "text": [
      "1    17902\n",
      "0    17000\n",
      "Name: y, dtype: int64\n"
     ]
    },
    {
     "data": {
      "text/plain": [
       "0    6367\n",
       "1     867\n",
       "Name: y, dtype: int64"
      ]
     },
     "execution_count": 17,
     "metadata": {},
     "output_type": "execute_result"
    }
   ],
   "source": [
    "columns = final.drop('y',axis=1).columns\n",
    "X_train, y_train, X_valid, y_valid, X_test, y_test,final = prepareData(bank)\n",
    "X_train, y_train = overSMOTE(X_train,y_train,0.7)\n",
    "X = concat(X_train,y_train,columns)\n",
    "X_train, y_train = resamp(X,17000) \n",
    "y_valid.value_counts()"
   ]
  },
  {
   "cell_type": "code",
   "execution_count": null,
   "metadata": {},
   "outputs": [],
   "source": [
    "Best_model=None\n",
    "Best_score=0\n",
    "Best_thresh = 0\n",
    "for n in range(2,20):\n",
    "    for c in [\"gini\",\"entropy\"]:\n",
    "        for mf in [\"auto\",None]:\n",
    "            clf = RandomForestClassifier(max_depth=n, criterion=c, max_features=mf,n_jobs=2)\n",
    "            clf.fit(X_train, y_train)\n",
    "            thresh, score = find_thresh_and_f1(clf, X_valid, y_valid)\n",
    "           # print(n, c, mf, score)\n",
    "            if score>Best_score:\n",
    "                Best_model=clf\n",
    "                Best_score= score\n",
    "                Best_thresh = thresh"
   ]
  },
  {
   "cell_type": "code",
   "execution_count": 19,
   "metadata": {},
   "outputs": [
    {
     "name": "stdout",
     "output_type": "stream",
     "text": [
      "best forest RandomForestClassifier(bootstrap=True, ccp_alpha=0.0, class_weight=None,\n",
      "                       criterion='entropy', max_depth=19, max_features=None,\n",
      "                       max_leaf_nodes=None, max_samples=None,\n",
      "                       min_impurity_decrease=0.0, min_impurity_split=None,\n",
      "                       min_samples_leaf=1, min_samples_split=2,\n",
      "                       min_weight_fraction_leaf=0.0, n_estimators=100, n_jobs=2,\n",
      "                       oob_score=False, random_state=None, verbose=0,\n",
      "                       warm_start=False) f1 0.5953150242326333\n"
     ]
    }
   ],
   "source": [
    "# X_train, y_train = overSMOTE(X_train,y_train,0.7)\n",
    "# X = concat(X_train,y_train,columns)\n",
    "# X_train, y_train = resamp(X,17000) \n",
    "\n",
    "y_pred = Best_model.predict_proba(X_test)\n",
    "label = (y_pred[:,0] < Best_thresh).astype(np.int)\n",
    "f1_forest1 = f1_score(y_test,label)\n",
    "thresh_forest1 = Best_thresh\n",
    "best_forest1 = Best_model \n",
    "print(\"best forest\",best_forest1,'f1', f1_forest1)"
   ]
  },
  {
   "cell_type": "code",
   "execution_count": 22,
   "metadata": {},
   "outputs": [
    {
     "name": "stdout",
     "output_type": "stream",
     "text": [
      "best forest RandomForestClassifier(bootstrap=True, ccp_alpha=0.0, class_weight=None,\n",
      "                       criterion='entropy', max_depth=19, max_features=None,\n",
      "                       max_leaf_nodes=None, max_samples=None,\n",
      "                       min_impurity_decrease=0.0, min_impurity_split=None,\n",
      "                       min_samples_leaf=1, min_samples_split=2,\n",
      "                       min_weight_fraction_leaf=0.0, n_estimators=100, n_jobs=2,\n",
      "                       oob_score=False, random_state=None, verbose=0,\n",
      "                       warm_start=False) f1 0.5953150242326333\n"
     ]
    }
   ],
   "source": [
    "# columns = final.drop('y',axis=1).columns\n",
    "# X_train,y_train = overSMOTE(X_train,y_train,0.9)\n",
    "# y_train.value_counts()\n",
    "\n",
    "y_pred = Best_model.predict_proba(X_test)\n",
    "label = (y_pred[:,0] < Best_thresh).astype(np.int)\n",
    "f1_forest2 = f1_score(y_test,label)\n",
    "thresh_forest2 = Best_thresh\n",
    "best_forest2 = Best_model \n",
    "print(\"best forest\",best_forest1,'f1', f1_forest1)"
   ]
  },
  {
   "cell_type": "code",
   "execution_count": null,
   "metadata": {},
   "outputs": [],
   "source": [
    "Best_model=None\n",
    "Best_score=0\n",
    "Best_thresh = 0\n",
    "for p in [2]:\n",
    "    for leaf_size in range(1,50):\n",
    "        for k in range(2,20):\n",
    "            clf = KNeighborsClassifier(n_neighbors=k, p=p,metric='minkowski',leaf_size=leaf_size)\n",
    "            clf.fit(X_train, y_train)\n",
    "            thresh, score = find_thresh_and_f1(clf, X_valid, y_valid)\n",
    "            print(p,k,score)\n",
    "            if score>Best_score:\n",
    "                Best_model=clf\n",
    "                Best_score= score\n",
    "                Best_thresh = thresh"
   ]
  },
  {
   "cell_type": "code",
   "execution_count": 29,
   "metadata": {},
   "outputs": [],
   "source": [
    "y_pred = Best_model.predict_proba(X_test)\n",
    "label = (y_pred[:,0] < Best_thresh).astype(np.int)\n",
    "f1_score(y_test,label)\n",
    "best_knn_smote = Best_model\n",
    "print(Best_model)"
   ]
  },
  {
   "cell_type": "code",
   "execution_count": 30,
   "metadata": {
    "scrolled": true
   },
   "outputs": [
    {
     "name": "stdout",
     "output_type": "stream",
     "text": [
      "KNeighborsClassifier(algorithm='auto', leaf_size=30, metric='minkowski',\n",
      "                     metric_params=None, n_jobs=None, n_neighbors=19, p=1,\n",
      "                     weights='uniform')\n"
     ]
    }
   ],
   "source": [
    "print(Best_knn_smote)"
   ]
  },
  {
   "cell_type": "markdown",
   "metadata": {},
   "source": [
    "CONCLUSION"
   ]
  },
  {
   "cell_type": "markdown",
   "metadata": {},
   "source": [
    "Imbalanced data are hard to deal with. After trying undersampling and oversampling methods we get best results with this imbalanced data using Random Forest algorithm eith parameters\n",
    "\n",
    "RandomForestClassifier(bootstrap=True, ccp_alpha=0.0, class_weight=None,\n",
    "                       criterion='entropy', max_depth=16, max_features=None,\n",
    "                       max_leaf_nodes=None, max_samples=None,\n",
    "                       min_impurity_decrease=0.0, min_impurity_split=None,\n",
    "                       min_samples_leaf=1, min_samples_split=2,\n",
    "                       min_weight_fraction_leaf=0.0, n_estimators=100, n_jobs=2,\n",
    "                       oob_score=False, random_state=None, verbose=0,\n",
    "                       warm_start=False) "
   ]
  }
 ],
 "metadata": {
  "kernelspec": {
   "display_name": "Python 3",
   "language": "python",
   "name": "python3"
  },
  "language_info": {
   "codemirror_mode": {
    "name": "ipython",
    "version": 3
   },
   "file_extension": ".py",
   "mimetype": "text/x-python",
   "name": "python",
   "nbconvert_exporter": "python",
   "pygments_lexer": "ipython3",
   "version": "3.7.4"
  }
 },
 "nbformat": 4,
 "nbformat_minor": 2
}
